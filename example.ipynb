{
 "cells": [
  {
   "cell_type": "code",
   "execution_count": 2,
   "metadata": {
    "collapsed": false
   },
   "outputs": [],
   "source": [
    "from shapely.geometry import shape, box\n",
    "from gbdxtools import Interface\n",
    "gbdx = Interface()\n",
    "\n",
    "query = \"ingest_source:GBDX_Workflow AND item_type:GBDX_Task_Output AND attributes.workflow:4609932187205404848\"\n",
    "wkt = box(-180, -90, 180, 90).wkt\n",
    "features = gbdx.vectors.query(wkt, query, index=None)"
   ]
  },
  {
   "cell_type": "code",
   "execution_count": 3,
   "metadata": {
    "collapsed": true
   },
   "outputs": [],
   "source": [
    "from shapely.ops import cascaded_union\n",
    "union = cascaded_union([shape(f['geometry']) for f in features])\n",
    "lon, lat = union.centroid.coords[0]"
   ]
  },
  {
   "cell_type": "code",
   "execution_count": 4,
   "metadata": {
    "collapsed": true
   },
   "outputs": [],
   "source": [
    "import os\n",
    "from jupbox import Map, GeojsonLayer, RasterLayer\n",
    "\n",
    "def render(feature):\n",
    "    m = Map(center=[lon, lat], api_key=os.environ['MBTOKEN'])\n",
    "    print id(m)\n",
    "\n",
    "    idaho_id = feature['properties']['attributes']['idaho_id']\n",
    "    url = 'http://idaho.geobigdata.io/v1/tile/idaho-images/' + idaho_id + '/{z}/{x}/{y}?'\n",
    "    url += 'bands=4,2,1&gamma=1.3&highCutoff=0.98&lowCutoff=0.02&brightness=1.0&contrast=1.0&panId=undefined'\n",
    "    url += '&token=' + gbdx.gbdx_connection.access_token\n",
    "\n",
    "    tiles = RasterLayer('image', url)\n",
    "    m.add_layer(tiles)\n",
    "\n",
    "    lines = GeojsonLayer('water_lines', [feature], 'line', paint={\"line-color\": '#f50000'})\n",
    "    m.add_layer(lines)"
   ]
  },
  {
   "cell_type": "code",
   "execution_count": 5,
   "metadata": {
    "collapsed": false
   },
   "outputs": [
    {
     "name": "stdout",
     "output_type": "stream",
     "text": [
      "4488455504\n"
     ]
    }
   ],
   "source": [
    "render(features[3])"
   ]
  },
  {
   "cell_type": "code",
   "execution_count": null,
   "metadata": {
    "collapsed": true
   },
   "outputs": [],
   "source": []
  }
 ],
 "metadata": {
  "anaconda-cloud": {},
  "kernelspec": {
   "display_name": "Python 2",
   "language": "python",
   "name": "python2"
  },
  "language_info": {
   "codemirror_mode": {
    "name": "ipython",
    "version": 2
   },
   "file_extension": ".py",
   "mimetype": "text/x-python",
   "name": "python",
   "nbconvert_exporter": "python",
   "pygments_lexer": "ipython2",
   "version": "2.7.13"
  }
 },
 "nbformat": 4,
 "nbformat_minor": 0
}
